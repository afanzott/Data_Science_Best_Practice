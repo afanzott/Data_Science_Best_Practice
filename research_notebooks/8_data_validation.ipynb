{
 "cells": [
  {
   "cell_type": "code",
   "execution_count": 1,
   "metadata": {},
   "outputs": [],
   "source": [
    "import sys\n",
    "sys.path.append(\"../\")\n",
    "from ruamel import yaml\n",
    "\n",
    "\n",
    "import great_expectations as gx\n",
    "from great_expectations.data_context import FileDataContext"
   ]
  },
  {
   "cell_type": "code",
   "execution_count": 2,
   "metadata": {},
   "outputs": [],
   "source": [
    "path_to_empty_folder = \"../data_validations/\""
   ]
  },
  {
   "cell_type": "code",
   "execution_count": 3,
   "metadata": {},
   "outputs": [
    {
     "name": "stdout",
     "output_type": "stream",
     "text": [
      "{\n",
      "  \"anonymous_usage_statistics\": {\n",
      "    \"explicit_id\": true,\n",
      "    \"usage_statistics_url\": \"https://stats.greatexpectations.io/great_expectations/v1/usage_statistics\",\n",
      "    \"enabled\": true,\n",
      "    \"explicit_url\": false,\n",
      "    \"data_context_id\": \"9d0727db-d079-41f5-8e7b-6c856571bad1\"\n",
      "  },\n",
      "  \"checkpoint_store_name\": \"checkpoint_store\",\n",
      "  \"config_variables_file_path\": \"uncommitted/config_variables.yml\",\n",
      "  \"config_version\": 3.0,\n",
      "  \"data_docs_sites\": {\n",
      "    \"local_site\": {\n",
      "      \"class_name\": \"SiteBuilder\",\n",
      "      \"show_how_to_buttons\": true,\n",
      "      \"store_backend\": {\n",
      "        \"class_name\": \"TupleFilesystemStoreBackend\",\n",
      "        \"base_directory\": \"uncommitted/data_docs/local_site/\"\n",
      "      },\n",
      "      \"site_index_builder\": {\n",
      "        \"class_name\": \"DefaultSiteIndexBuilder\"\n",
      "      }\n",
      "    }\n",
      "  },\n",
      "  \"datasources\": {},\n",
      "  \"evaluation_parameter_store_name\": \"evaluation_parameter_store\",\n",
      "  \"expectations_store_name\": \"expectations_store\",\n",
      "  \"fluent_datasources\": {\n",
      "    \"best_practice_datasource\": {\n",
      "      \"type\": \"pandas_filesystem\",\n",
      "      \"assets\": {\n",
      "        \"best_practice_asset\": {\n",
      "          \"type\": \"csv\",\n",
      "          \"batching_regex\": \"^(.*?)([a-zA-Z]{0,6})\\\\.csv$\",\n",
      "          \"header\": 0\n",
      "        }\n",
      "      },\n",
      "      \"base_directory\": \"../data\"\n",
      "    }\n",
      "  },\n",
      "  \"include_rendered_content\": {\n",
      "    \"globally\": false,\n",
      "    \"expectation_validation_result\": false,\n",
      "    \"expectation_suite\": false\n",
      "  },\n",
      "  \"plugins_directory\": \"plugins/\",\n",
      "  \"stores\": {\n",
      "    \"expectations_store\": {\n",
      "      \"class_name\": \"ExpectationsStore\",\n",
      "      \"store_backend\": {\n",
      "        \"class_name\": \"TupleFilesystemStoreBackend\",\n",
      "        \"base_directory\": \"expectations/\"\n",
      "      }\n",
      "    },\n",
      "    \"validations_store\": {\n",
      "      \"class_name\": \"ValidationsStore\",\n",
      "      \"store_backend\": {\n",
      "        \"class_name\": \"TupleFilesystemStoreBackend\",\n",
      "        \"base_directory\": \"uncommitted/validations/\"\n",
      "      }\n",
      "    },\n",
      "    \"evaluation_parameter_store\": {\n",
      "      \"class_name\": \"EvaluationParameterStore\"\n",
      "    },\n",
      "    \"checkpoint_store\": {\n",
      "      \"class_name\": \"CheckpointStore\",\n",
      "      \"store_backend\": {\n",
      "        \"class_name\": \"TupleFilesystemStoreBackend\",\n",
      "        \"suppress_store_backend_id\": true,\n",
      "        \"base_directory\": \"checkpoints/\"\n",
      "      }\n",
      "    },\n",
      "    \"profiler_store\": {\n",
      "      \"class_name\": \"ProfilerStore\",\n",
      "      \"store_backend\": {\n",
      "        \"class_name\": \"TupleFilesystemStoreBackend\",\n",
      "        \"suppress_store_backend_id\": true,\n",
      "        \"base_directory\": \"profilers/\"\n",
      "      }\n",
      "    }\n",
      "  },\n",
      "  \"validations_store_name\": \"validations_store\"\n",
      "}\n"
     ]
    }
   ],
   "source": [
    "context = FileDataContext.create(project_root_dir=path_to_empty_folder)\n",
    "print(context)"
   ]
  },
  {
   "cell_type": "code",
   "execution_count": 4,
   "metadata": {},
   "outputs": [],
   "source": [
    "datasource_name = \"best_practice_datasource\"\n",
    "path_to_folder_containing_csv_files = \"../data/\""
   ]
  },
  {
   "cell_type": "code",
   "execution_count": 5,
   "metadata": {},
   "outputs": [],
   "source": [
    "datasource = context.sources.add_or_update_pandas_filesystem(\n",
    "    name=datasource_name, base_directory=path_to_folder_containing_csv_files\n",
    ")"
   ]
  },
  {
   "cell_type": "code",
   "execution_count": 6,
   "metadata": {},
   "outputs": [],
   "source": [
    "asset_name = \"best_practice_asset\"\n",
    "batching_regex = r\"^(.*?)([a-zA-Z]{0,6})\\.csv$\""
   ]
  },
  {
   "cell_type": "code",
   "execution_count": 7,
   "metadata": {},
   "outputs": [
    {
     "data": {
      "text/plain": [
       "CSVAsset(name='best_practice_asset', type='csv', id=None, order_by=[], batch_metadata={}, batching_regex=re.compile('^(.*?)([a-zA-Z]{0,6})\\\\.csv$'), connect_options={}, splitter=None, sep=<no_default>, delimiter=None, header=0, names=<no_default>, index_col=None, usecols=None, squeeze=None, prefix=<no_default>, mangle_dupe_cols=True, dtype=None, engine=None, converters=None, true_values=None, false_values=None, skipinitialspace=False, skiprows=None, skipfooter=0, nrows=None, na_values=None, keep_default_na=True, na_filter=True, verbose=False, skip_blank_lines=True, parse_dates=None, infer_datetime_format=False, keep_date_col=False, date_parser=None, dayfirst=False, cache_dates=True, iterator=False, chunksize=None, compression='infer', thousands=None, decimal='.', lineterminator=None, quotechar='\"', quoting=0, doublequote=True, escapechar=None, comment=None, encoding=None, encoding_errors='strict', dialect=None, error_bad_lines=None, warn_bad_lines=None, on_bad_lines=None, delim_whitespace=False, low_memory=True, memory_map=False, float_precision=None, storage_options=None)"
      ]
     },
     "execution_count": 7,
     "metadata": {},
     "output_type": "execute_result"
    }
   ],
   "source": [
    "datasource.add_csv_asset(name=asset_name, batching_regex=batching_regex, header=0)"
   ]
  },
  {
   "cell_type": "code",
   "execution_count": 8,
   "metadata": {},
   "outputs": [
    {
     "name": "stdout",
     "output_type": "stream",
     "text": [
      "datasource_name='best_practice_datasource' data_asset_name='best_practice_asset' options={}\n"
     ]
    }
   ],
   "source": [
    "data_asset = context.get_datasource(\"best_practice_datasource\").get_asset(\"best_practice_asset\")\n",
    "batch_request = data_asset.build_batch_request()\n",
    "print(batch_request)"
   ]
  },
  {
   "cell_type": "code",
   "execution_count": 24,
   "metadata": {},
   "outputs": [
    {
     "name": "stdout",
     "output_type": "stream",
     "text": [
      "{'path': '../data/md_raw_dataset.csv', 'reader_method': 'read_csv', 'reader_options': {'header': 0}}\n",
      "{'path': '../data/md_target_dataset.csv', 'reader_method': 'read_csv', 'reader_options': {'header': 0}}\n",
      "{'path': '../data/prediction_samples/prediction_sample_3359.csv', 'reader_method': 'read_csv', 'reader_options': {'header': 0}}\n",
      "{'path': '../data/train_test_data/X_test.csv', 'reader_method': 'read_csv', 'reader_options': {'header': 0}}\n",
      "{'path': '../data/train_test_data/X_train.csv', 'reader_method': 'read_csv', 'reader_options': {'header': 0}}\n",
      "{'path': '../data/train_test_data/y_test.csv', 'reader_method': 'read_csv', 'reader_options': {'header': 0}}\n",
      "{'path': '../data/train_test_data/y_train.csv', 'reader_method': 'read_csv', 'reader_options': {'header': 0}}\n"
     ]
    }
   ],
   "source": [
    "batches = datasource.get_batch_list_from_batch_request(batch_request=batch_request)\n",
    "for batch in batches:\n",
    "    print(batch.batch_spec)\n",
    "    #print(batch.columns())\n",
    "    #print(batch.head())\n",
    "\n"
   ]
  },
  {
   "cell_type": "code",
   "execution_count": 10,
   "metadata": {},
   "outputs": [
    {
     "data": {
      "text/plain": [
       "{\n",
       "  \"expectation_suite_name\": \"best_practice_expectation_suite\",\n",
       "  \"ge_cloud_id\": null,\n",
       "  \"expectations\": [],\n",
       "  \"data_asset_type\": null,\n",
       "  \"meta\": {\n",
       "    \"great_expectations_version\": \"0.17.19\"\n",
       "  }\n",
       "}"
      ]
     },
     "execution_count": 10,
     "metadata": {},
     "output_type": "execute_result"
    }
   ],
   "source": [
    "context.add_or_update_expectation_suite(\"best_practice_expectation_suite\")\n",
    "# Optional. Run assert \"my_expectation_suite\" in context.list_expectation_suite_names() to veriify the Expectation Suite was created."
   ]
  },
  {
   "cell_type": "code",
   "execution_count": 34,
   "metadata": {},
   "outputs": [
    {
     "data": {
      "text/plain": [
       "odict_values([Batch(datasource=PandasFilesystemDatasource(type='pandas_filesystem', name='best_practice_datasource', id=None, assets=[CSVAsset(name='best_practice_asset', type='csv', id=None, order_by=[], batch_metadata={}, batching_regex=re.compile('^(.*?)([a-zA-Z]{0,6})\\\\.csv$'), connect_options={}, splitter=None, sep=<no_default>, delimiter=None, header=0, names=<no_default>, index_col=None, usecols=None, squeeze=None, prefix=<no_default>, mangle_dupe_cols=True, dtype=None, engine=None, converters=None, true_values=None, false_values=None, skipinitialspace=False, skiprows=None, skipfooter=0, nrows=None, na_values=None, keep_default_na=True, na_filter=True, verbose=False, skip_blank_lines=True, parse_dates=None, infer_datetime_format=False, keep_date_col=False, date_parser=None, dayfirst=False, cache_dates=True, iterator=False, chunksize=None, compression='infer', thousands=None, decimal='.', lineterminator=None, quotechar='\"', quoting=0, doublequote=True, escapechar=None, comment=None, encoding=None, encoding_errors='strict', dialect=None, error_bad_lines=None, warn_bad_lines=None, on_bad_lines=None, delim_whitespace=False, low_memory=True, memory_map=False, float_precision=None, storage_options=None)], base_directory=PosixPath('../data'), data_context_root_directory=None), data_asset=CSVAsset(name='best_practice_asset', type='csv', id=None, order_by=[], batch_metadata={}, batching_regex=re.compile('^(.*?)([a-zA-Z]{0,6})\\\\.csv$'), connect_options={}, splitter=None, sep=<no_default>, delimiter=None, header=0, names=<no_default>, index_col=None, usecols=None, squeeze=None, prefix=<no_default>, mangle_dupe_cols=True, dtype=None, engine=None, converters=None, true_values=None, false_values=None, skipinitialspace=False, skiprows=None, skipfooter=0, nrows=None, na_values=None, keep_default_na=True, na_filter=True, verbose=False, skip_blank_lines=True, parse_dates=None, infer_datetime_format=False, keep_date_col=False, date_parser=None, dayfirst=False, cache_dates=True, iterator=False, chunksize=None, compression='infer', thousands=None, decimal='.', lineterminator=None, quotechar='\"', quoting=0, doublequote=True, escapechar=None, comment=None, encoding=None, encoding_errors='strict', dialect=None, error_bad_lines=None, warn_bad_lines=None, on_bad_lines=None, delim_whitespace=False, low_memory=True, memory_map=False, float_precision=None, storage_options=None), batch_request=BatchRequest(datasource_name='best_practice_datasource', data_asset_name='best_practice_asset', options={'path': 'md_raw_dataset.csv', 'batch_request_param_2': 'md_raw_d', 'batch_request_param_3': 'ataset'}), data=<great_expectations.execution_engine.pandas_batch_data.PandasBatchData object at 0x7facf13fc8e0>, id='best_practice_datasource-best_practice_asset-batch_request_param_2_md_raw_d-batch_request_param_3_ataset', metadata={'path': 'md_raw_dataset.csv', 'batch_request_param_2': 'md_raw_d', 'batch_request_param_3': 'ataset'}, batch_markers={'ge_load_time': '20230927T131259.096552Z', 'pandas_data_fingerprint': '6cf913a2c496b7030d7e5632061c03ac'}, batch_spec={'path': '../data/md_raw_dataset.csv', 'reader_method': 'read_csv', 'reader_options': {'header': 0}}, batch_definition={'datasource_name': 'best_practice_datasource', 'data_connector_name': 'fluent', 'data_asset_name': 'best_practice_asset', 'batch_identifiers': {'path': 'md_raw_dataset.csv', 'batch_request_param_2': 'md_raw_d', 'batch_request_param_3': 'ataset'}}), Batch(datasource=PandasFilesystemDatasource(type='pandas_filesystem', name='best_practice_datasource', id=None, assets=[CSVAsset(name='best_practice_asset', type='csv', id=None, order_by=[], batch_metadata={}, batching_regex=re.compile('^(.*?)([a-zA-Z]{0,6})\\\\.csv$'), connect_options={}, splitter=None, sep=<no_default>, delimiter=None, header=0, names=<no_default>, index_col=None, usecols=None, squeeze=None, prefix=<no_default>, mangle_dupe_cols=True, dtype=None, engine=None, converters=None, true_values=None, false_values=None, skipinitialspace=False, skiprows=None, skipfooter=0, nrows=None, na_values=None, keep_default_na=True, na_filter=True, verbose=False, skip_blank_lines=True, parse_dates=None, infer_datetime_format=False, keep_date_col=False, date_parser=None, dayfirst=False, cache_dates=True, iterator=False, chunksize=None, compression='infer', thousands=None, decimal='.', lineterminator=None, quotechar='\"', quoting=0, doublequote=True, escapechar=None, comment=None, encoding=None, encoding_errors='strict', dialect=None, error_bad_lines=None, warn_bad_lines=None, on_bad_lines=None, delim_whitespace=False, low_memory=True, memory_map=False, float_precision=None, storage_options=None)], base_directory=PosixPath('../data'), data_context_root_directory=None), data_asset=CSVAsset(name='best_practice_asset', type='csv', id=None, order_by=[], batch_metadata={}, batching_regex=re.compile('^(.*?)([a-zA-Z]{0,6})\\\\.csv$'), connect_options={}, splitter=None, sep=<no_default>, delimiter=None, header=0, names=<no_default>, index_col=None, usecols=None, squeeze=None, prefix=<no_default>, mangle_dupe_cols=True, dtype=None, engine=None, converters=None, true_values=None, false_values=None, skipinitialspace=False, skiprows=None, skipfooter=0, nrows=None, na_values=None, keep_default_na=True, na_filter=True, verbose=False, skip_blank_lines=True, parse_dates=None, infer_datetime_format=False, keep_date_col=False, date_parser=None, dayfirst=False, cache_dates=True, iterator=False, chunksize=None, compression='infer', thousands=None, decimal='.', lineterminator=None, quotechar='\"', quoting=0, doublequote=True, escapechar=None, comment=None, encoding=None, encoding_errors='strict', dialect=None, error_bad_lines=None, warn_bad_lines=None, on_bad_lines=None, delim_whitespace=False, low_memory=True, memory_map=False, float_precision=None, storage_options=None), batch_request=BatchRequest(datasource_name='best_practice_datasource', data_asset_name='best_practice_asset', options={'path': 'md_target_dataset.csv', 'batch_request_param_2': 'md_target_d', 'batch_request_param_3': 'ataset'}), data=<great_expectations.execution_engine.pandas_batch_data.PandasBatchData object at 0x7face064b2b0>, id='best_practice_datasource-best_practice_asset-batch_request_param_2_md_target_d-batch_request_param_3_ataset', metadata={'path': 'md_target_dataset.csv', 'batch_request_param_2': 'md_target_d', 'batch_request_param_3': 'ataset'}, batch_markers={'ge_load_time': '20230927T131259.144710Z', 'pandas_data_fingerprint': 'ec8ca697b51626823f67282d18dd501f'}, batch_spec={'path': '../data/md_target_dataset.csv', 'reader_method': 'read_csv', 'reader_options': {'header': 0}}, batch_definition={'datasource_name': 'best_practice_datasource', 'data_connector_name': 'fluent', 'data_asset_name': 'best_practice_asset', 'batch_identifiers': {'path': 'md_target_dataset.csv', 'batch_request_param_2': 'md_target_d', 'batch_request_param_3': 'ataset'}}), Batch(datasource=PandasFilesystemDatasource(type='pandas_filesystem', name='best_practice_datasource', id=None, assets=[CSVAsset(name='best_practice_asset', type='csv', id=None, order_by=[], batch_metadata={}, batching_regex=re.compile('^(.*?)([a-zA-Z]{0,6})\\\\.csv$'), connect_options={}, splitter=None, sep=<no_default>, delimiter=None, header=0, names=<no_default>, index_col=None, usecols=None, squeeze=None, prefix=<no_default>, mangle_dupe_cols=True, dtype=None, engine=None, converters=None, true_values=None, false_values=None, skipinitialspace=False, skiprows=None, skipfooter=0, nrows=None, na_values=None, keep_default_na=True, na_filter=True, verbose=False, skip_blank_lines=True, parse_dates=None, infer_datetime_format=False, keep_date_col=False, date_parser=None, dayfirst=False, cache_dates=True, iterator=False, chunksize=None, compression='infer', thousands=None, decimal='.', lineterminator=None, quotechar='\"', quoting=0, doublequote=True, escapechar=None, comment=None, encoding=None, encoding_errors='strict', dialect=None, error_bad_lines=None, warn_bad_lines=None, on_bad_lines=None, delim_whitespace=False, low_memory=True, memory_map=False, float_precision=None, storage_options=None)], base_directory=PosixPath('../data'), data_context_root_directory=None), data_asset=CSVAsset(name='best_practice_asset', type='csv', id=None, order_by=[], batch_metadata={}, batching_regex=re.compile('^(.*?)([a-zA-Z]{0,6})\\\\.csv$'), connect_options={}, splitter=None, sep=<no_default>, delimiter=None, header=0, names=<no_default>, index_col=None, usecols=None, squeeze=None, prefix=<no_default>, mangle_dupe_cols=True, dtype=None, engine=None, converters=None, true_values=None, false_values=None, skipinitialspace=False, skiprows=None, skipfooter=0, nrows=None, na_values=None, keep_default_na=True, na_filter=True, verbose=False, skip_blank_lines=True, parse_dates=None, infer_datetime_format=False, keep_date_col=False, date_parser=None, dayfirst=False, cache_dates=True, iterator=False, chunksize=None, compression='infer', thousands=None, decimal='.', lineterminator=None, quotechar='\"', quoting=0, doublequote=True, escapechar=None, comment=None, encoding=None, encoding_errors='strict', dialect=None, error_bad_lines=None, warn_bad_lines=None, on_bad_lines=None, delim_whitespace=False, low_memory=True, memory_map=False, float_precision=None, storage_options=None), batch_request=BatchRequest(datasource_name='best_practice_datasource', data_asset_name='best_practice_asset', options={'path': 'prediction_samples/prediction_sample_3359.csv', 'batch_request_param_2': 'prediction_samples/prediction_sample_3359', 'batch_request_param_3': ''}), data=<great_expectations.execution_engine.pandas_batch_data.PandasBatchData object at 0x7facf13eaa10>, id='best_practice_datasource-best_practice_asset-batch_request_param_2_prediction_samples/prediction_sample_3359-batch_request_param_3_', metadata={'path': 'prediction_samples/prediction_sample_3359.csv', 'batch_request_param_2': 'prediction_samples/prediction_sample_3359', 'batch_request_param_3': ''}, batch_markers={'ge_load_time': '20230927T131259.152560Z', 'pandas_data_fingerprint': '889ef495be3858da727a9305d0e5e12a'}, batch_spec={'path': '../data/prediction_samples/prediction_sample_3359.csv', 'reader_method': 'read_csv', 'reader_options': {'header': 0}}, batch_definition={'datasource_name': 'best_practice_datasource', 'data_connector_name': 'fluent', 'data_asset_name': 'best_practice_asset', 'batch_identifiers': {'path': 'prediction_samples/prediction_sample_3359.csv', 'batch_request_param_2': 'prediction_samples/prediction_sample_3359', 'batch_request_param_3': ''}}), Batch(datasource=PandasFilesystemDatasource(type='pandas_filesystem', name='best_practice_datasource', id=None, assets=[CSVAsset(name='best_practice_asset', type='csv', id=None, order_by=[], batch_metadata={}, batching_regex=re.compile('^(.*?)([a-zA-Z]{0,6})\\\\.csv$'), connect_options={}, splitter=None, sep=<no_default>, delimiter=None, header=0, names=<no_default>, index_col=None, usecols=None, squeeze=None, prefix=<no_default>, mangle_dupe_cols=True, dtype=None, engine=None, converters=None, true_values=None, false_values=None, skipinitialspace=False, skiprows=None, skipfooter=0, nrows=None, na_values=None, keep_default_na=True, na_filter=True, verbose=False, skip_blank_lines=True, parse_dates=None, infer_datetime_format=False, keep_date_col=False, date_parser=None, dayfirst=False, cache_dates=True, iterator=False, chunksize=None, compression='infer', thousands=None, decimal='.', lineterminator=None, quotechar='\"', quoting=0, doublequote=True, escapechar=None, comment=None, encoding=None, encoding_errors='strict', dialect=None, error_bad_lines=None, warn_bad_lines=None, on_bad_lines=None, delim_whitespace=False, low_memory=True, memory_map=False, float_precision=None, storage_options=None)], base_directory=PosixPath('../data'), data_context_root_directory=None), data_asset=CSVAsset(name='best_practice_asset', type='csv', id=None, order_by=[], batch_metadata={}, batching_regex=re.compile('^(.*?)([a-zA-Z]{0,6})\\\\.csv$'), connect_options={}, splitter=None, sep=<no_default>, delimiter=None, header=0, names=<no_default>, index_col=None, usecols=None, squeeze=None, prefix=<no_default>, mangle_dupe_cols=True, dtype=None, engine=None, converters=None, true_values=None, false_values=None, skipinitialspace=False, skiprows=None, skipfooter=0, nrows=None, na_values=None, keep_default_na=True, na_filter=True, verbose=False, skip_blank_lines=True, parse_dates=None, infer_datetime_format=False, keep_date_col=False, date_parser=None, dayfirst=False, cache_dates=True, iterator=False, chunksize=None, compression='infer', thousands=None, decimal='.', lineterminator=None, quotechar='\"', quoting=0, doublequote=True, escapechar=None, comment=None, encoding=None, encoding_errors='strict', dialect=None, error_bad_lines=None, warn_bad_lines=None, on_bad_lines=None, delim_whitespace=False, low_memory=True, memory_map=False, float_precision=None, storage_options=None), batch_request=BatchRequest(datasource_name='best_practice_datasource', data_asset_name='best_practice_asset', options={'path': 'train_test_data/X_test.csv', 'batch_request_param_2': 'train_test_data/X_', 'batch_request_param_3': 'test'}), data=<great_expectations.execution_engine.pandas_batch_data.PandasBatchData object at 0x7fad05c801f0>, id='best_practice_datasource-best_practice_asset-batch_request_param_2_train_test_data/X_-batch_request_param_3_test', metadata={'path': 'train_test_data/X_test.csv', 'batch_request_param_2': 'train_test_data/X_', 'batch_request_param_3': 'test'}, batch_markers={'ge_load_time': '20230927T131259.155416Z', 'pandas_data_fingerprint': 'b39ac7d45f5243d46825f437f83b5332'}, batch_spec={'path': '../data/train_test_data/X_test.csv', 'reader_method': 'read_csv', 'reader_options': {'header': 0}}, batch_definition={'datasource_name': 'best_practice_datasource', 'data_connector_name': 'fluent', 'data_asset_name': 'best_practice_asset', 'batch_identifiers': {'path': 'train_test_data/X_test.csv', 'batch_request_param_2': 'train_test_data/X_', 'batch_request_param_3': 'test'}}), Batch(datasource=PandasFilesystemDatasource(type='pandas_filesystem', name='best_practice_datasource', id=None, assets=[CSVAsset(name='best_practice_asset', type='csv', id=None, order_by=[], batch_metadata={}, batching_regex=re.compile('^(.*?)([a-zA-Z]{0,6})\\\\.csv$'), connect_options={}, splitter=None, sep=<no_default>, delimiter=None, header=0, names=<no_default>, index_col=None, usecols=None, squeeze=None, prefix=<no_default>, mangle_dupe_cols=True, dtype=None, engine=None, converters=None, true_values=None, false_values=None, skipinitialspace=False, skiprows=None, skipfooter=0, nrows=None, na_values=None, keep_default_na=True, na_filter=True, verbose=False, skip_blank_lines=True, parse_dates=None, infer_datetime_format=False, keep_date_col=False, date_parser=None, dayfirst=False, cache_dates=True, iterator=False, chunksize=None, compression='infer', thousands=None, decimal='.', lineterminator=None, quotechar='\"', quoting=0, doublequote=True, escapechar=None, comment=None, encoding=None, encoding_errors='strict', dialect=None, error_bad_lines=None, warn_bad_lines=None, on_bad_lines=None, delim_whitespace=False, low_memory=True, memory_map=False, float_precision=None, storage_options=None)], base_directory=PosixPath('../data'), data_context_root_directory=None), data_asset=CSVAsset(name='best_practice_asset', type='csv', id=None, order_by=[], batch_metadata={}, batching_regex=re.compile('^(.*?)([a-zA-Z]{0,6})\\\\.csv$'), connect_options={}, splitter=None, sep=<no_default>, delimiter=None, header=0, names=<no_default>, index_col=None, usecols=None, squeeze=None, prefix=<no_default>, mangle_dupe_cols=True, dtype=None, engine=None, converters=None, true_values=None, false_values=None, skipinitialspace=False, skiprows=None, skipfooter=0, nrows=None, na_values=None, keep_default_na=True, na_filter=True, verbose=False, skip_blank_lines=True, parse_dates=None, infer_datetime_format=False, keep_date_col=False, date_parser=None, dayfirst=False, cache_dates=True, iterator=False, chunksize=None, compression='infer', thousands=None, decimal='.', lineterminator=None, quotechar='\"', quoting=0, doublequote=True, escapechar=None, comment=None, encoding=None, encoding_errors='strict', dialect=None, error_bad_lines=None, warn_bad_lines=None, on_bad_lines=None, delim_whitespace=False, low_memory=True, memory_map=False, float_precision=None, storage_options=None), batch_request=BatchRequest(datasource_name='best_practice_datasource', data_asset_name='best_practice_asset', options={'path': 'train_test_data/X_train.csv', 'batch_request_param_2': 'train_test_data/X_', 'batch_request_param_3': 'train'}), data=<great_expectations.execution_engine.pandas_batch_data.PandasBatchData object at 0x7fad0463f730>, id='best_practice_datasource-best_practice_asset-batch_request_param_2_train_test_data/X_-batch_request_param_3_train', metadata={'path': 'train_test_data/X_train.csv', 'batch_request_param_2': 'train_test_data/X_', 'batch_request_param_3': 'train'}, batch_markers={'ge_load_time': '20230927T131259.161158Z', 'pandas_data_fingerprint': '7a97176d9143402ab95140901b0842f4'}, batch_spec={'path': '../data/train_test_data/X_train.csv', 'reader_method': 'read_csv', 'reader_options': {'header': 0}}, batch_definition={'datasource_name': 'best_practice_datasource', 'data_connector_name': 'fluent', 'data_asset_name': 'best_practice_asset', 'batch_identifiers': {'path': 'train_test_data/X_train.csv', 'batch_request_param_2': 'train_test_data/X_', 'batch_request_param_3': 'train'}}), Batch(datasource=PandasFilesystemDatasource(type='pandas_filesystem', name='best_practice_datasource', id=None, assets=[CSVAsset(name='best_practice_asset', type='csv', id=None, order_by=[], batch_metadata={}, batching_regex=re.compile('^(.*?)([a-zA-Z]{0,6})\\\\.csv$'), connect_options={}, splitter=None, sep=<no_default>, delimiter=None, header=0, names=<no_default>, index_col=None, usecols=None, squeeze=None, prefix=<no_default>, mangle_dupe_cols=True, dtype=None, engine=None, converters=None, true_values=None, false_values=None, skipinitialspace=False, skiprows=None, skipfooter=0, nrows=None, na_values=None, keep_default_na=True, na_filter=True, verbose=False, skip_blank_lines=True, parse_dates=None, infer_datetime_format=False, keep_date_col=False, date_parser=None, dayfirst=False, cache_dates=True, iterator=False, chunksize=None, compression='infer', thousands=None, decimal='.', lineterminator=None, quotechar='\"', quoting=0, doublequote=True, escapechar=None, comment=None, encoding=None, encoding_errors='strict', dialect=None, error_bad_lines=None, warn_bad_lines=None, on_bad_lines=None, delim_whitespace=False, low_memory=True, memory_map=False, float_precision=None, storage_options=None)], base_directory=PosixPath('../data'), data_context_root_directory=None), data_asset=CSVAsset(name='best_practice_asset', type='csv', id=None, order_by=[], batch_metadata={}, batching_regex=re.compile('^(.*?)([a-zA-Z]{0,6})\\\\.csv$'), connect_options={}, splitter=None, sep=<no_default>, delimiter=None, header=0, names=<no_default>, index_col=None, usecols=None, squeeze=None, prefix=<no_default>, mangle_dupe_cols=True, dtype=None, engine=None, converters=None, true_values=None, false_values=None, skipinitialspace=False, skiprows=None, skipfooter=0, nrows=None, na_values=None, keep_default_na=True, na_filter=True, verbose=False, skip_blank_lines=True, parse_dates=None, infer_datetime_format=False, keep_date_col=False, date_parser=None, dayfirst=False, cache_dates=True, iterator=False, chunksize=None, compression='infer', thousands=None, decimal='.', lineterminator=None, quotechar='\"', quoting=0, doublequote=True, escapechar=None, comment=None, encoding=None, encoding_errors='strict', dialect=None, error_bad_lines=None, warn_bad_lines=None, on_bad_lines=None, delim_whitespace=False, low_memory=True, memory_map=False, float_precision=None, storage_options=None), batch_request=BatchRequest(datasource_name='best_practice_datasource', data_asset_name='best_practice_asset', options={'path': 'train_test_data/y_test.csv', 'batch_request_param_2': 'train_test_data/y_', 'batch_request_param_3': 'test'}), data=<great_expectations.execution_engine.pandas_batch_data.PandasBatchData object at 0x7fad22763f40>, id='best_practice_datasource-best_practice_asset-batch_request_param_2_train_test_data/y_-batch_request_param_3_test', metadata={'path': 'train_test_data/y_test.csv', 'batch_request_param_2': 'train_test_data/y_', 'batch_request_param_3': 'test'}, batch_markers={'ge_load_time': '20230927T131259.196251Z', 'pandas_data_fingerprint': 'a968537c2b875768bbe4a474320b5768'}, batch_spec={'path': '../data/train_test_data/y_test.csv', 'reader_method': 'read_csv', 'reader_options': {'header': 0}}, batch_definition={'datasource_name': 'best_practice_datasource', 'data_connector_name': 'fluent', 'data_asset_name': 'best_practice_asset', 'batch_identifiers': {'path': 'train_test_data/y_test.csv', 'batch_request_param_2': 'train_test_data/y_', 'batch_request_param_3': 'test'}}), Batch(datasource=PandasFilesystemDatasource(type='pandas_filesystem', name='best_practice_datasource', id=None, assets=[CSVAsset(name='best_practice_asset', type='csv', id=None, order_by=[], batch_metadata={}, batching_regex=re.compile('^(.*?)([a-zA-Z]{0,6})\\\\.csv$'), connect_options={}, splitter=None, sep=<no_default>, delimiter=None, header=0, names=<no_default>, index_col=None, usecols=None, squeeze=None, prefix=<no_default>, mangle_dupe_cols=True, dtype=None, engine=None, converters=None, true_values=None, false_values=None, skipinitialspace=False, skiprows=None, skipfooter=0, nrows=None, na_values=None, keep_default_na=True, na_filter=True, verbose=False, skip_blank_lines=True, parse_dates=None, infer_datetime_format=False, keep_date_col=False, date_parser=None, dayfirst=False, cache_dates=True, iterator=False, chunksize=None, compression='infer', thousands=None, decimal='.', lineterminator=None, quotechar='\"', quoting=0, doublequote=True, escapechar=None, comment=None, encoding=None, encoding_errors='strict', dialect=None, error_bad_lines=None, warn_bad_lines=None, on_bad_lines=None, delim_whitespace=False, low_memory=True, memory_map=False, float_precision=None, storage_options=None)], base_directory=PosixPath('../data'), data_context_root_directory=None), data_asset=CSVAsset(name='best_practice_asset', type='csv', id=None, order_by=[], batch_metadata={}, batching_regex=re.compile('^(.*?)([a-zA-Z]{0,6})\\\\.csv$'), connect_options={}, splitter=None, sep=<no_default>, delimiter=None, header=0, names=<no_default>, index_col=None, usecols=None, squeeze=None, prefix=<no_default>, mangle_dupe_cols=True, dtype=None, engine=None, converters=None, true_values=None, false_values=None, skipinitialspace=False, skiprows=None, skipfooter=0, nrows=None, na_values=None, keep_default_na=True, na_filter=True, verbose=False, skip_blank_lines=True, parse_dates=None, infer_datetime_format=False, keep_date_col=False, date_parser=None, dayfirst=False, cache_dates=True, iterator=False, chunksize=None, compression='infer', thousands=None, decimal='.', lineterminator=None, quotechar='\"', quoting=0, doublequote=True, escapechar=None, comment=None, encoding=None, encoding_errors='strict', dialect=None, error_bad_lines=None, warn_bad_lines=None, on_bad_lines=None, delim_whitespace=False, low_memory=True, memory_map=False, float_precision=None, storage_options=None), batch_request=BatchRequest(datasource_name='best_practice_datasource', data_asset_name='best_practice_asset', options={'path': 'train_test_data/y_train.csv', 'batch_request_param_2': 'train_test_data/y_', 'batch_request_param_3': 'train'}), data=<great_expectations.execution_engine.pandas_batch_data.PandasBatchData object at 0x7fad22761c60>, id='best_practice_datasource-best_practice_asset-batch_request_param_2_train_test_data/y_-batch_request_param_3_train', metadata={'path': 'train_test_data/y_train.csv', 'batch_request_param_2': 'train_test_data/y_', 'batch_request_param_3': 'train'}, batch_markers={'ge_load_time': '20230927T131259.198678Z', 'pandas_data_fingerprint': '496c84e868f8e97f0830667d86cf5904'}, batch_spec={'path': '../data/train_test_data/y_train.csv', 'reader_method': 'read_csv', 'reader_options': {'header': 0}}, batch_definition={'datasource_name': 'best_practice_datasource', 'data_connector_name': 'fluent', 'data_asset_name': 'best_practice_asset', 'batch_identifiers': {'path': 'train_test_data/y_train.csv', 'batch_request_param_2': 'train_test_data/y_', 'batch_request_param_3': 'train'}})])"
      ]
     },
     "execution_count": 34,
     "metadata": {},
     "output_type": "execute_result"
    }
   ],
   "source": [
    "validator = context.get_validator(\n",
    "    batch_request=batch_request,\n",
    "    expectation_suite_name=\"best_practice_expectation_suite\",\n",
    ")\n",
    "validator.batches.values()"
   ]
  },
  {
   "cell_type": "code",
   "execution_count": 12,
   "metadata": {},
   "outputs": [
    {
     "data": {
      "application/vnd.jupyter.widget-view+json": {
       "model_id": "a64690d73e914c7f91e9333e3da13c61",
       "version_major": 2,
       "version_minor": 0
      },
      "text/plain": [
       "Calculating Metrics:   0%|          | 0/6 [00:00<?, ?it/s]"
      ]
     },
     "metadata": {},
     "output_type": "display_data"
    },
    {
     "ename": "MetricResolutionError",
     "evalue": "Error: The column \"target\" in BatchData does not exist.",
     "output_type": "error",
     "traceback": [
      "\u001b[0;31m---------------------------------------------------------------------------\u001b[0m",
      "\u001b[0;31mInvalidMetricAccessorDomainKwargsKeyError\u001b[0m Traceback (most recent call last)",
      "File \u001b[0;32m~/opt/miniconda3/envs/Best_Practice_env/lib/python3.10/site-packages/great_expectations/execution_engine/execution_engine.py:548\u001b[0m, in \u001b[0;36mExecutionEngine._process_direct_and_bundled_metric_computation_configurations\u001b[0;34m(self, metric_fn_direct_configurations, metric_fn_bundle_configurations)\u001b[0m\n\u001b[1;32m    545\u001b[0m \u001b[39mtry\u001b[39;00m:\n\u001b[1;32m    546\u001b[0m     resolved_metrics[\n\u001b[1;32m    547\u001b[0m         metric_computation_configuration\u001b[39m.\u001b[39mmetric_configuration\u001b[39m.\u001b[39mid\n\u001b[0;32m--> 548\u001b[0m     ] \u001b[39m=\u001b[39m metric_computation_configuration\u001b[39m.\u001b[39;49mmetric_fn(  \u001b[39m# type: ignore[misc] # F not callable\u001b[39;49;00m\n\u001b[1;32m    549\u001b[0m         \u001b[39m*\u001b[39;49m\u001b[39m*\u001b[39;49mmetric_computation_configuration\u001b[39m.\u001b[39;49mmetric_provider_kwargs\n\u001b[1;32m    550\u001b[0m     )\n\u001b[1;32m    551\u001b[0m \u001b[39mexcept\u001b[39;00m \u001b[39mException\u001b[39;00m \u001b[39mas\u001b[39;00m e:\n",
      "File \u001b[0;32m~/opt/miniconda3/envs/Best_Practice_env/lib/python3.10/site-packages/great_expectations/expectations/metrics/metric_provider.py:90\u001b[0m, in \u001b[0;36mmetric_partial.<locals>.wrapper.<locals>.inner_func\u001b[0;34m(*args, **kwargs)\u001b[0m\n\u001b[1;32m     88\u001b[0m \u001b[39m@wraps\u001b[39m(metric_fn)\n\u001b[1;32m     89\u001b[0m \u001b[39mdef\u001b[39;00m \u001b[39minner_func\u001b[39m(\u001b[39m*\u001b[39margs, \u001b[39m*\u001b[39m\u001b[39m*\u001b[39mkwargs):\n\u001b[0;32m---> 90\u001b[0m     \u001b[39mreturn\u001b[39;00m metric_fn(\u001b[39m*\u001b[39;49margs, \u001b[39m*\u001b[39;49m\u001b[39m*\u001b[39;49mkwargs)\n",
      "File \u001b[0;32m~/opt/miniconda3/envs/Best_Practice_env/lib/python3.10/site-packages/great_expectations/expectations/metrics/map_metric_provider/column_condition_partial.py:96\u001b[0m, in \u001b[0;36mcolumn_condition_partial.<locals>.wrapper.<locals>.inner_func\u001b[0;34m(cls, execution_engine, metric_domain_kwargs, metric_value_kwargs, metrics, runtime_configuration)\u001b[0m\n\u001b[1;32m     81\u001b[0m \u001b[39m@metric_partial\u001b[39m(\n\u001b[1;32m     82\u001b[0m     engine\u001b[39m=\u001b[39mengine,\n\u001b[1;32m     83\u001b[0m     partial_fn_type\u001b[39m=\u001b[39mpartial_fn_type,\n\u001b[0;32m   (...)\u001b[0m\n\u001b[1;32m     94\u001b[0m     runtime_configuration: \u001b[39mdict\u001b[39m,\n\u001b[1;32m     95\u001b[0m ):\n\u001b[0;32m---> 96\u001b[0m     metric_domain_kwargs \u001b[39m=\u001b[39m get_dbms_compatible_metric_domain_kwargs(\n\u001b[1;32m     97\u001b[0m         metric_domain_kwargs\u001b[39m=\u001b[39;49mmetric_domain_kwargs,\n\u001b[1;32m     98\u001b[0m         batch_columns_list\u001b[39m=\u001b[39;49mmetrics[\u001b[39m\"\u001b[39;49m\u001b[39mtable.columns\u001b[39;49m\u001b[39m\"\u001b[39;49m],\n\u001b[1;32m     99\u001b[0m     )\n\u001b[1;32m    101\u001b[0m     (\n\u001b[1;32m    102\u001b[0m         df,\n\u001b[1;32m    103\u001b[0m         compute_domain_kwargs,\n\u001b[0;32m   (...)\u001b[0m\n\u001b[1;32m    106\u001b[0m         domain_kwargs\u001b[39m=\u001b[39mmetric_domain_kwargs, domain_type\u001b[39m=\u001b[39mdomain_type\n\u001b[1;32m    107\u001b[0m     )\n",
      "File \u001b[0;32m~/opt/miniconda3/envs/Best_Practice_env/lib/python3.10/site-packages/great_expectations/expectations/metrics/util.py:701\u001b[0m, in \u001b[0;36mget_dbms_compatible_metric_domain_kwargs\u001b[0;34m(metric_domain_kwargs, batch_columns_list)\u001b[0m\n\u001b[1;32m    700\u001b[0m \u001b[39mif\u001b[39;00m \u001b[39m\"\u001b[39m\u001b[39mcolumn\u001b[39m\u001b[39m\"\u001b[39m \u001b[39min\u001b[39;00m metric_domain_kwargs:\n\u001b[0;32m--> 701\u001b[0m     column_name: \u001b[39mstr\u001b[39m \u001b[39m|\u001b[39m sqlalchemy\u001b[39m.\u001b[39mquoted_name \u001b[39m=\u001b[39m get_dbms_compatible_column_names(\n\u001b[1;32m    702\u001b[0m         column_names\u001b[39m=\u001b[39;49mmetric_domain_kwargs[\u001b[39m\"\u001b[39;49m\u001b[39mcolumn\u001b[39;49m\u001b[39m\"\u001b[39;49m],\n\u001b[1;32m    703\u001b[0m         batch_columns_list\u001b[39m=\u001b[39;49mbatch_columns_list,\n\u001b[1;32m    704\u001b[0m     )\n\u001b[1;32m    705\u001b[0m     metric_domain_kwargs[\u001b[39m\"\u001b[39m\u001b[39mcolumn\u001b[39m\u001b[39m\"\u001b[39m] \u001b[39m=\u001b[39m column_name\n",
      "File \u001b[0;32m~/opt/miniconda3/envs/Best_Practice_env/lib/python3.10/site-packages/great_expectations/expectations/metrics/util.py:775\u001b[0m, in \u001b[0;36mget_dbms_compatible_column_names\u001b[0;34m(column_names, batch_columns_list, error_message_template)\u001b[0m\n\u001b[1;32m    755\u001b[0m \u001b[39m\"\"\"\u001b[39;00m\n\u001b[1;32m    756\u001b[0m \u001b[39mCase non-sensitivity is expressed in upper case by common DBMS backends and in lower case by SQLAlchemy, with any\u001b[39;00m\n\u001b[1;32m    757\u001b[0m \u001b[39mdeviations enclosed with double quotes.\u001b[39;00m\n\u001b[0;32m   (...)\u001b[0m\n\u001b[1;32m    770\u001b[0m \u001b[39m    Single property-typed column name object or list of property-typed column name objects (depending on input).\u001b[39;00m\n\u001b[1;32m    771\u001b[0m \u001b[39m\"\"\"\u001b[39;00m\n\u001b[1;32m    772\u001b[0m normalized_typed_batch_columns_mappings: List[\n\u001b[1;32m    773\u001b[0m     Tuple[\u001b[39mstr\u001b[39m, \u001b[39mstr\u001b[39m \u001b[39m|\u001b[39m sqlalchemy\u001b[39m.\u001b[39mquoted_name]\n\u001b[1;32m    774\u001b[0m ] \u001b[39m=\u001b[39m (\n\u001b[0;32m--> 775\u001b[0m     _verify_column_names_exist_and_get_normalized_typed_column_names_map(\n\u001b[1;32m    776\u001b[0m         column_names\u001b[39m=\u001b[39;49mcolumn_names,\n\u001b[1;32m    777\u001b[0m         batch_columns_list\u001b[39m=\u001b[39;49mbatch_columns_list,\n\u001b[1;32m    778\u001b[0m         error_message_template\u001b[39m=\u001b[39;49merror_message_template,\n\u001b[1;32m    779\u001b[0m     )\n\u001b[1;32m    780\u001b[0m     \u001b[39mor\u001b[39;00m []\n\u001b[1;32m    781\u001b[0m )\n\u001b[1;32m    783\u001b[0m element: Tuple[\u001b[39mstr\u001b[39m, \u001b[39mstr\u001b[39m \u001b[39m|\u001b[39m sqlalchemy\u001b[39m.\u001b[39mquoted_name]\n",
      "File \u001b[0;32m~/opt/miniconda3/envs/Best_Practice_env/lib/python3.10/site-packages/great_expectations/expectations/metrics/util.py:871\u001b[0m, in \u001b[0;36m_verify_column_names_exist_and_get_normalized_typed_column_names_map\u001b[0;34m(column_names, batch_columns_list, error_message_template, verify_only)\u001b[0m\n\u001b[1;32m    870\u001b[0m \u001b[39mif\u001b[39;00m normalized_column_name_mapping \u001b[39mis\u001b[39;00m \u001b[39mNone\u001b[39;00m:\n\u001b[0;32m--> 871\u001b[0m     \u001b[39mraise\u001b[39;00m gx_exceptions\u001b[39m.\u001b[39mInvalidMetricAccessorDomainKwargsKeyError(\n\u001b[1;32m    872\u001b[0m         message\u001b[39m=\u001b[39merror_message_template\u001b[39m.\u001b[39mformat(column_name\u001b[39m=\u001b[39mcolumn_name)\n\u001b[1;32m    873\u001b[0m     )\n\u001b[1;32m    874\u001b[0m \u001b[39melse\u001b[39;00m:  \u001b[39m# noqa: PLR5501\u001b[39;00m\n",
      "\u001b[0;31mInvalidMetricAccessorDomainKwargsKeyError\u001b[0m: Error: The column \"target\" in BatchData does not exist.",
      "\nThe above exception was the direct cause of the following exception:\n",
      "\u001b[0;31mMetricResolutionError\u001b[0m                     Traceback (most recent call last)",
      "\u001b[1;32m/Users/pdanninger/Documents/Projects/Data_Science_Best_Practice/research_notebooks/8_data_validation.ipynb Cell 12\u001b[0m line \u001b[0;36m<cell line: 1>\u001b[0;34m()\u001b[0m\n\u001b[0;32m----> <a href='vscode-notebook-cell:/Users/pdanninger/Documents/Projects/Data_Science_Best_Practice/research_notebooks/8_data_validation.ipynb#X15sZmlsZQ%3D%3D?line=0'>1</a>\u001b[0m validator\u001b[39m.\u001b[39;49mexpect_column_values_to_not_be_null(column\u001b[39m=\u001b[39;49m\u001b[39m\"\u001b[39;49m\u001b[39mtarget\u001b[39;49m\u001b[39m\"\u001b[39;49m)\n",
      "File \u001b[0;32m~/opt/miniconda3/envs/Best_Practice_env/lib/python3.10/site-packages/great_expectations/validator/validator.py:594\u001b[0m, in \u001b[0;36mValidator.validate_expectation.<locals>.inst_expectation\u001b[0;34m(*args, **kwargs)\u001b[0m\n\u001b[1;32m    588\u001b[0m         validation_result \u001b[39m=\u001b[39m ExpectationValidationResult(\n\u001b[1;32m    589\u001b[0m             success\u001b[39m=\u001b[39m\u001b[39mFalse\u001b[39;00m,\n\u001b[1;32m    590\u001b[0m             exception_info\u001b[39m=\u001b[39mexception_info,\n\u001b[1;32m    591\u001b[0m             expectation_config\u001b[39m=\u001b[39mconfiguration,\n\u001b[1;32m    592\u001b[0m         )\n\u001b[1;32m    593\u001b[0m     \u001b[39melse\u001b[39;00m:\n\u001b[0;32m--> 594\u001b[0m         \u001b[39mraise\u001b[39;00m err\n\u001b[1;32m    596\u001b[0m \u001b[39mif\u001b[39;00m \u001b[39mself\u001b[39m\u001b[39m.\u001b[39m_include_rendered_content:\n\u001b[1;32m    597\u001b[0m     validation_result\u001b[39m.\u001b[39mrender()\n",
      "File \u001b[0;32m~/opt/miniconda3/envs/Best_Practice_env/lib/python3.10/site-packages/great_expectations/validator/validator.py:557\u001b[0m, in \u001b[0;36mValidator.validate_expectation.<locals>.inst_expectation\u001b[0;34m(*args, **kwargs)\u001b[0m\n\u001b[1;32m    553\u001b[0m     validation_result \u001b[39m=\u001b[39m ExpectationValidationResult(\n\u001b[1;32m    554\u001b[0m         expectation_config\u001b[39m=\u001b[39mcopy\u001b[39m.\u001b[39mdeepcopy(expectation\u001b[39m.\u001b[39mconfiguration)\n\u001b[1;32m    555\u001b[0m     )\n\u001b[1;32m    556\u001b[0m \u001b[39melse\u001b[39;00m:\n\u001b[0;32m--> 557\u001b[0m     validation_result \u001b[39m=\u001b[39m expectation\u001b[39m.\u001b[39;49mvalidate(\n\u001b[1;32m    558\u001b[0m         validator\u001b[39m=\u001b[39;49m\u001b[39mself\u001b[39;49m,\n\u001b[1;32m    559\u001b[0m         evaluation_parameters\u001b[39m=\u001b[39;49m\u001b[39mself\u001b[39;49m\u001b[39m.\u001b[39;49m_expectation_suite\u001b[39m.\u001b[39;49mevaluation_parameters,\n\u001b[1;32m    560\u001b[0m         data_context\u001b[39m=\u001b[39;49m\u001b[39mself\u001b[39;49m\u001b[39m.\u001b[39;49m_data_context,\n\u001b[1;32m    561\u001b[0m         runtime_configuration\u001b[39m=\u001b[39;49mbasic_runtime_configuration,\n\u001b[1;32m    562\u001b[0m     )\n\u001b[1;32m    564\u001b[0m \u001b[39m# If validate has set active_validation to true, then we do not save the config to avoid\u001b[39;00m\n\u001b[1;32m    565\u001b[0m \u001b[39m# saving updating expectation configs to the same suite during validation runs\u001b[39;00m\n\u001b[1;32m    566\u001b[0m \u001b[39mif\u001b[39;00m \u001b[39mself\u001b[39m\u001b[39m.\u001b[39m_active_validation \u001b[39mis\u001b[39;00m \u001b[39mTrue\u001b[39;00m:\n",
      "File \u001b[0;32m~/opt/miniconda3/envs/Best_Practice_env/lib/python3.10/site-packages/great_expectations/expectations/expectation.py:1276\u001b[0m, in \u001b[0;36mExpectation.validate\u001b[0;34m(self, validator, configuration, evaluation_parameters, interactive_evaluation, data_context, runtime_configuration)\u001b[0m\n\u001b[1;32m   1267\u001b[0m \u001b[39mself\u001b[39m\u001b[39m.\u001b[39m_warn_if_result_format_config_in_expectation_configuration(\n\u001b[1;32m   1268\u001b[0m     configuration\u001b[39m=\u001b[39mconfiguration\n\u001b[1;32m   1269\u001b[0m )\n\u001b[1;32m   1271\u001b[0m configuration\u001b[39m.\u001b[39mprocess_evaluation_parameters(\n\u001b[1;32m   1272\u001b[0m     evaluation_parameters, interactive_evaluation, data_context\n\u001b[1;32m   1273\u001b[0m )\n\u001b[1;32m   1274\u001b[0m expectation_validation_result_list: \u001b[39mlist\u001b[39m[\n\u001b[1;32m   1275\u001b[0m     ExpectationValidationResult\n\u001b[0;32m-> 1276\u001b[0m ] \u001b[39m=\u001b[39m validator\u001b[39m.\u001b[39;49mgraph_validate(\n\u001b[1;32m   1277\u001b[0m     configurations\u001b[39m=\u001b[39;49m[configuration],\n\u001b[1;32m   1278\u001b[0m     runtime_configuration\u001b[39m=\u001b[39;49mruntime_configuration,\n\u001b[1;32m   1279\u001b[0m )\n\u001b[1;32m   1280\u001b[0m \u001b[39mreturn\u001b[39;00m expectation_validation_result_list[\u001b[39m0\u001b[39m]\n",
      "File \u001b[0;32m~/opt/miniconda3/envs/Best_Practice_env/lib/python3.10/site-packages/great_expectations/validator/validator.py:1069\u001b[0m, in \u001b[0;36mValidator.graph_validate\u001b[0;34m(self, configurations, runtime_configuration)\u001b[0m\n\u001b[1;32m   1067\u001b[0m         \u001b[39mreturn\u001b[39;00m evrs\n\u001b[1;32m   1068\u001b[0m     \u001b[39melse\u001b[39;00m:\n\u001b[0;32m-> 1069\u001b[0m         \u001b[39mraise\u001b[39;00m err\n\u001b[1;32m   1071\u001b[0m configuration: ExpectationConfiguration\n\u001b[1;32m   1072\u001b[0m result: ExpectationValidationResult\n",
      "File \u001b[0;32m~/opt/miniconda3/envs/Best_Practice_env/lib/python3.10/site-packages/great_expectations/validator/validator.py:1048\u001b[0m, in \u001b[0;36mValidator.graph_validate\u001b[0;34m(self, configurations, runtime_configuration)\u001b[0m\n\u001b[1;32m   1041\u001b[0m resolved_metrics: _MetricsDict\n\u001b[1;32m   1043\u001b[0m \u001b[39mtry\u001b[39;00m:\n\u001b[1;32m   1044\u001b[0m     (\n\u001b[1;32m   1045\u001b[0m         resolved_metrics,\n\u001b[1;32m   1046\u001b[0m         evrs,\n\u001b[1;32m   1047\u001b[0m         processed_configurations,\n\u001b[0;32m-> 1048\u001b[0m     ) \u001b[39m=\u001b[39m \u001b[39mself\u001b[39;49m\u001b[39m.\u001b[39;49m_resolve_suite_level_graph_and_process_metric_evaluation_errors(\n\u001b[1;32m   1049\u001b[0m         graph\u001b[39m=\u001b[39;49mgraph,\n\u001b[1;32m   1050\u001b[0m         runtime_configuration\u001b[39m=\u001b[39;49mruntime_configuration,\n\u001b[1;32m   1051\u001b[0m         expectation_validation_graphs\u001b[39m=\u001b[39;49mexpectation_validation_graphs,\n\u001b[1;32m   1052\u001b[0m         evrs\u001b[39m=\u001b[39;49mevrs,\n\u001b[1;32m   1053\u001b[0m         processed_configurations\u001b[39m=\u001b[39;49mprocessed_configurations,\n\u001b[1;32m   1054\u001b[0m         show_progress_bars\u001b[39m=\u001b[39;49m\u001b[39mself\u001b[39;49m\u001b[39m.\u001b[39;49m_determine_progress_bars(),\n\u001b[1;32m   1055\u001b[0m     )\n\u001b[1;32m   1056\u001b[0m \u001b[39mexcept\u001b[39;00m \u001b[39mException\u001b[39;00m \u001b[39mas\u001b[39;00m err:\n\u001b[1;32m   1057\u001b[0m     \u001b[39m# If a general Exception occurs during the execution of \"ValidationGraph.resolve()\", then\u001b[39;00m\n\u001b[1;32m   1058\u001b[0m     \u001b[39m# all expectations in the suite are impacted, because it is impossible to attribute the failure to a metric.\u001b[39;00m\n\u001b[1;32m   1059\u001b[0m     \u001b[39mif\u001b[39;00m catch_exceptions:\n",
      "File \u001b[0;32m~/opt/miniconda3/envs/Best_Practice_env/lib/python3.10/site-packages/great_expectations/validator/validator.py:1207\u001b[0m, in \u001b[0;36mValidator._resolve_suite_level_graph_and_process_metric_evaluation_errors\u001b[0;34m(self, graph, runtime_configuration, expectation_validation_graphs, evrs, processed_configurations, show_progress_bars)\u001b[0m\n\u001b[1;32m   1199\u001b[0m resolved_metrics: _MetricsDict\n\u001b[1;32m   1200\u001b[0m aborted_metrics_info: Dict[\n\u001b[1;32m   1201\u001b[0m     _MetricKey,\n\u001b[1;32m   1202\u001b[0m     Dict[\u001b[39mstr\u001b[39m, Union[MetricConfiguration, Set[ExceptionInfo], \u001b[39mint\u001b[39m]],\n\u001b[1;32m   1203\u001b[0m ]\n\u001b[1;32m   1204\u001b[0m (\n\u001b[1;32m   1205\u001b[0m     resolved_metrics,\n\u001b[1;32m   1206\u001b[0m     aborted_metrics_info,\n\u001b[0;32m-> 1207\u001b[0m ) \u001b[39m=\u001b[39m \u001b[39mself\u001b[39;49m\u001b[39m.\u001b[39;49m_metrics_calculator\u001b[39m.\u001b[39;49mresolve_validation_graph(\n\u001b[1;32m   1208\u001b[0m     graph\u001b[39m=\u001b[39;49mgraph,\n\u001b[1;32m   1209\u001b[0m     runtime_configuration\u001b[39m=\u001b[39;49mruntime_configuration,\n\u001b[1;32m   1210\u001b[0m     min_graph_edges_pbar_enable\u001b[39m=\u001b[39;49m\u001b[39m0\u001b[39;49m,\n\u001b[1;32m   1211\u001b[0m )\n\u001b[1;32m   1213\u001b[0m \u001b[39m# Trace MetricResolutionError occurrences to expectations relying on corresponding malfunctioning metrics.\u001b[39;00m\n\u001b[1;32m   1214\u001b[0m rejected_configurations: List[ExpectationConfiguration] \u001b[39m=\u001b[39m []\n",
      "File \u001b[0;32m~/opt/miniconda3/envs/Best_Practice_env/lib/python3.10/site-packages/great_expectations/validator/metrics_calculator.py:287\u001b[0m, in \u001b[0;36mMetricsCalculator.resolve_validation_graph\u001b[0;34m(self, graph, runtime_configuration, min_graph_edges_pbar_enable)\u001b[0m\n\u001b[1;32m    282\u001b[0m resolved_metrics: _MetricsDict\n\u001b[1;32m    283\u001b[0m aborted_metrics_info: Dict[\n\u001b[1;32m    284\u001b[0m     _MetricKey,\n\u001b[1;32m    285\u001b[0m     Dict[\u001b[39mstr\u001b[39m, Union[MetricConfiguration, Set[ExceptionInfo], \u001b[39mint\u001b[39m]],\n\u001b[1;32m    286\u001b[0m ]\n\u001b[0;32m--> 287\u001b[0m resolved_metrics, aborted_metrics_info \u001b[39m=\u001b[39m graph\u001b[39m.\u001b[39;49mresolve(\n\u001b[1;32m    288\u001b[0m     runtime_configuration\u001b[39m=\u001b[39;49mruntime_configuration,\n\u001b[1;32m    289\u001b[0m     min_graph_edges_pbar_enable\u001b[39m=\u001b[39;49mmin_graph_edges_pbar_enable,\n\u001b[1;32m    290\u001b[0m     show_progress_bars\u001b[39m=\u001b[39;49m\u001b[39mself\u001b[39;49m\u001b[39m.\u001b[39;49m_show_progress_bars,\n\u001b[1;32m    291\u001b[0m )\n\u001b[1;32m    292\u001b[0m \u001b[39mreturn\u001b[39;00m resolved_metrics, aborted_metrics_info\n",
      "File \u001b[0;32m~/opt/miniconda3/envs/Best_Practice_env/lib/python3.10/site-packages/great_expectations/validator/validation_graph.py:209\u001b[0m, in \u001b[0;36mValidationGraph.resolve\u001b[0;34m(self, runtime_configuration, min_graph_edges_pbar_enable, show_progress_bars)\u001b[0m\n\u001b[1;32m    203\u001b[0m resolved_metrics: Dict[_MetricKey, MetricValue] \u001b[39m=\u001b[39m {}\n\u001b[1;32m    205\u001b[0m \u001b[39m# updates graph with aborted metrics\u001b[39;00m\n\u001b[1;32m    206\u001b[0m aborted_metrics_info: Dict[\n\u001b[1;32m    207\u001b[0m     _MetricKey,\n\u001b[1;32m    208\u001b[0m     Dict[\u001b[39mstr\u001b[39m, Union[MetricConfiguration, Set[ExceptionInfo], \u001b[39mint\u001b[39m]],\n\u001b[0;32m--> 209\u001b[0m ] \u001b[39m=\u001b[39m \u001b[39mself\u001b[39;49m\u001b[39m.\u001b[39;49m_resolve(\n\u001b[1;32m    210\u001b[0m     metrics\u001b[39m=\u001b[39;49mresolved_metrics,\n\u001b[1;32m    211\u001b[0m     runtime_configuration\u001b[39m=\u001b[39;49mruntime_configuration,\n\u001b[1;32m    212\u001b[0m     min_graph_edges_pbar_enable\u001b[39m=\u001b[39;49mmin_graph_edges_pbar_enable,\n\u001b[1;32m    213\u001b[0m     show_progress_bars\u001b[39m=\u001b[39;49mshow_progress_bars,\n\u001b[1;32m    214\u001b[0m )\n\u001b[1;32m    216\u001b[0m \u001b[39mreturn\u001b[39;00m resolved_metrics, aborted_metrics_info\n",
      "File \u001b[0;32m~/opt/miniconda3/envs/Best_Practice_env/lib/python3.10/site-packages/great_expectations/validator/validation_graph.py:315\u001b[0m, in \u001b[0;36mValidationGraph._resolve\u001b[0;34m(self, metrics, runtime_configuration, min_graph_edges_pbar_enable, show_progress_bars)\u001b[0m\n\u001b[1;32m    311\u001b[0m                 failed_metric_info[failed_metric\u001b[39m.\u001b[39mid][\u001b[39m\"\u001b[39m\u001b[39mexception_info\u001b[39m\u001b[39m\"\u001b[39m] \u001b[39m=\u001b[39m {\n\u001b[1;32m    312\u001b[0m                     exception_info\n\u001b[1;32m    313\u001b[0m                 }\n\u001b[1;32m    314\u001b[0m     \u001b[39melse\u001b[39;00m:\n\u001b[0;32m--> 315\u001b[0m         \u001b[39mraise\u001b[39;00m err\n\u001b[1;32m    316\u001b[0m \u001b[39mexcept\u001b[39;00m \u001b[39mException\u001b[39;00m \u001b[39mas\u001b[39;00m e:\n\u001b[1;32m    317\u001b[0m     \u001b[39mif\u001b[39;00m catch_exceptions:\n",
      "File \u001b[0;32m~/opt/miniconda3/envs/Best_Practice_env/lib/python3.10/site-packages/great_expectations/validator/validation_graph.py:285\u001b[0m, in \u001b[0;36mValidationGraph._resolve\u001b[0;34m(self, metrics, runtime_configuration, min_graph_edges_pbar_enable, show_progress_bars)\u001b[0m\n\u001b[1;32m    280\u001b[0m         computable_metrics\u001b[39m.\u001b[39madd(metric)\n\u001b[1;32m    282\u001b[0m \u001b[39mtry\u001b[39;00m:\n\u001b[1;32m    283\u001b[0m     \u001b[39m# Access \"ExecutionEngine.resolve_metrics()\" method, to resolve missing \"MetricConfiguration\" objects.\u001b[39;00m\n\u001b[1;32m    284\u001b[0m     metrics\u001b[39m.\u001b[39mupdate(\n\u001b[0;32m--> 285\u001b[0m         \u001b[39mself\u001b[39;49m\u001b[39m.\u001b[39;49m_execution_engine\u001b[39m.\u001b[39;49mresolve_metrics(\n\u001b[1;32m    286\u001b[0m             metrics_to_resolve\u001b[39m=\u001b[39;49mcomputable_metrics,  \u001b[39m# type: ignore[arg-type]  # Metric typing needs further refinement.\u001b[39;49;00m\n\u001b[1;32m    287\u001b[0m             metrics\u001b[39m=\u001b[39;49mmetrics,  \u001b[39m# type: ignore[arg-type]  # Metric typing needs further refinement.\u001b[39;49;00m\n\u001b[1;32m    288\u001b[0m             runtime_configuration\u001b[39m=\u001b[39;49mruntime_configuration,\n\u001b[1;32m    289\u001b[0m         )\n\u001b[1;32m    290\u001b[0m     )\n\u001b[1;32m    291\u001b[0m     progress_bar\u001b[39m.\u001b[39mupdate(\u001b[39mlen\u001b[39m(computable_metrics))\n\u001b[1;32m    292\u001b[0m     progress_bar\u001b[39m.\u001b[39mrefresh()\n",
      "File \u001b[0;32m~/opt/miniconda3/envs/Best_Practice_env/lib/python3.10/site-packages/great_expectations/execution_engine/execution_engine.py:283\u001b[0m, in \u001b[0;36mExecutionEngine.resolve_metrics\u001b[0;34m(self, metrics_to_resolve, metrics, runtime_configuration)\u001b[0m\n\u001b[1;32m    274\u001b[0m metric_fn_bundle_configurations: List[MetricComputationConfiguration]\n\u001b[1;32m    275\u001b[0m (\n\u001b[1;32m    276\u001b[0m     metric_fn_direct_configurations,\n\u001b[1;32m    277\u001b[0m     metric_fn_bundle_configurations,\n\u001b[0;32m   (...)\u001b[0m\n\u001b[1;32m    281\u001b[0m     runtime_configuration\u001b[39m=\u001b[39mruntime_configuration,\n\u001b[1;32m    282\u001b[0m )\n\u001b[0;32m--> 283\u001b[0m \u001b[39mreturn\u001b[39;00m \u001b[39mself\u001b[39;49m\u001b[39m.\u001b[39;49m_process_direct_and_bundled_metric_computation_configurations(\n\u001b[1;32m    284\u001b[0m     metric_fn_direct_configurations\u001b[39m=\u001b[39;49mmetric_fn_direct_configurations,\n\u001b[1;32m    285\u001b[0m     metric_fn_bundle_configurations\u001b[39m=\u001b[39;49mmetric_fn_bundle_configurations,\n\u001b[1;32m    286\u001b[0m )\n",
      "File \u001b[0;32m~/opt/miniconda3/envs/Best_Practice_env/lib/python3.10/site-packages/great_expectations/execution_engine/execution_engine.py:552\u001b[0m, in \u001b[0;36mExecutionEngine._process_direct_and_bundled_metric_computation_configurations\u001b[0;34m(self, metric_fn_direct_configurations, metric_fn_bundle_configurations)\u001b[0m\n\u001b[1;32m    546\u001b[0m         resolved_metrics[\n\u001b[1;32m    547\u001b[0m             metric_computation_configuration\u001b[39m.\u001b[39mmetric_configuration\u001b[39m.\u001b[39mid\n\u001b[1;32m    548\u001b[0m         ] \u001b[39m=\u001b[39m metric_computation_configuration\u001b[39m.\u001b[39mmetric_fn(  \u001b[39m# type: ignore[misc] # F not callable\u001b[39;00m\n\u001b[1;32m    549\u001b[0m             \u001b[39m*\u001b[39m\u001b[39m*\u001b[39mmetric_computation_configuration\u001b[39m.\u001b[39mmetric_provider_kwargs\n\u001b[1;32m    550\u001b[0m         )\n\u001b[1;32m    551\u001b[0m     \u001b[39mexcept\u001b[39;00m \u001b[39mException\u001b[39;00m \u001b[39mas\u001b[39;00m e:\n\u001b[0;32m--> 552\u001b[0m         \u001b[39mraise\u001b[39;00m gx_exceptions\u001b[39m.\u001b[39mMetricResolutionError(\n\u001b[1;32m    553\u001b[0m             message\u001b[39m=\u001b[39m\u001b[39mstr\u001b[39m(e),\n\u001b[1;32m    554\u001b[0m             failed_metrics\u001b[39m=\u001b[39m(\n\u001b[1;32m    555\u001b[0m                 metric_computation_configuration\u001b[39m.\u001b[39mmetric_configuration,\n\u001b[1;32m    556\u001b[0m             ),\n\u001b[1;32m    557\u001b[0m         ) \u001b[39mfrom\u001b[39;00m \u001b[39me\u001b[39;00m\n\u001b[1;32m    559\u001b[0m \u001b[39mtry\u001b[39;00m:\n\u001b[1;32m    560\u001b[0m     \u001b[39m# an engine-specific way of computing metrics together\u001b[39;00m\n\u001b[1;32m    561\u001b[0m     resolved_metric_bundle: Dict[\n\u001b[1;32m    562\u001b[0m         Tuple[\u001b[39mstr\u001b[39m, \u001b[39mstr\u001b[39m, \u001b[39mstr\u001b[39m], MetricValue\n\u001b[1;32m    563\u001b[0m     ] \u001b[39m=\u001b[39m \u001b[39mself\u001b[39m\u001b[39m.\u001b[39mresolve_metric_bundle(\n\u001b[1;32m    564\u001b[0m         metric_fn_bundle\u001b[39m=\u001b[39mmetric_fn_bundle_configurations\n\u001b[1;32m    565\u001b[0m     )\n",
      "\u001b[0;31mMetricResolutionError\u001b[0m: Error: The column \"target\" in BatchData does not exist."
     ]
    }
   ],
   "source": [
    "validator.expect_column_values_to_not_be_null(column=\"target\")"
   ]
  },
  {
   "cell_type": "code",
   "execution_count": null,
   "metadata": {},
   "outputs": [],
   "source": [
    "validator.save_expectation_suite(discard_failed_expectations=False)"
   ]
  }
 ],
 "metadata": {
  "kernelspec": {
   "display_name": "Best_Practice_env",
   "language": "python",
   "name": "python3"
  },
  "language_info": {
   "codemirror_mode": {
    "name": "ipython",
    "version": 3
   },
   "file_extension": ".py",
   "mimetype": "text/x-python",
   "name": "python",
   "nbconvert_exporter": "python",
   "pygments_lexer": "ipython3",
   "version": "3.10.6"
  },
  "orig_nbformat": 4
 },
 "nbformat": 4,
 "nbformat_minor": 2
}
