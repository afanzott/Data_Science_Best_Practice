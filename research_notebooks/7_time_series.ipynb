{
 "cells": [
  {
   "cell_type": "code",
   "execution_count": 1,
   "metadata": {},
   "outputs": [
    {
     "ename": "ModuleNotFoundError",
     "evalue": "No module named 'plotly'",
     "output_type": "error",
     "traceback": [
      "\u001b[0;31m---------------------------------------------------------------------------\u001b[0m",
      "\u001b[0;31mModuleNotFoundError\u001b[0m                       Traceback (most recent call last)",
      "\u001b[1;32m/Users/pdanninger/Documents/Projects/Data_Science_Best_Practice/research_notebooks/7_time_series.ipynb Cell 1\u001b[0m in \u001b[0;36m<cell line: 4>\u001b[0;34m()\u001b[0m\n\u001b[1;32m      <a href='vscode-notebook-cell:/Users/pdanninger/Documents/Projects/Data_Science_Best_Practice/research_notebooks/7_time_series.ipynb#W0sZmlsZQ%3D%3D?line=1'>2</a>\u001b[0m \u001b[39mimport\u001b[39;00m \u001b[39mpandas\u001b[39;00m \u001b[39mas\u001b[39;00m \u001b[39mpd\u001b[39;00m\n\u001b[1;32m      <a href='vscode-notebook-cell:/Users/pdanninger/Documents/Projects/Data_Science_Best_Practice/research_notebooks/7_time_series.ipynb#W0sZmlsZQ%3D%3D?line=2'>3</a>\u001b[0m \u001b[39mimport\u001b[39;00m \u001b[39mnumpy\u001b[39;00m \u001b[39mas\u001b[39;00m \u001b[39mnp\u001b[39;00m\n\u001b[0;32m----> <a href='vscode-notebook-cell:/Users/pdanninger/Documents/Projects/Data_Science_Best_Practice/research_notebooks/7_time_series.ipynb#W0sZmlsZQ%3D%3D?line=3'>4</a>\u001b[0m \u001b[39mimport\u001b[39;00m \u001b[39mplotly\u001b[39;00m\u001b[39m.\u001b[39;00m\u001b[39mexpress\u001b[39;00m \u001b[39mas\u001b[39;00m \u001b[39mpx\u001b[39;00m\n\u001b[1;32m      <a href='vscode-notebook-cell:/Users/pdanninger/Documents/Projects/Data_Science_Best_Practice/research_notebooks/7_time_series.ipynb#W0sZmlsZQ%3D%3D?line=4'>5</a>\u001b[0m \u001b[39mfrom\u001b[39;00m \u001b[39msklearn\u001b[39;00m\u001b[39m.\u001b[39;00m\u001b[39mmodel_selection\u001b[39;00m \u001b[39mimport\u001b[39;00m TimeSeriesSplit\n\u001b[1;32m      <a href='vscode-notebook-cell:/Users/pdanninger/Documents/Projects/Data_Science_Best_Practice/research_notebooks/7_time_series.ipynb#W0sZmlsZQ%3D%3D?line=5'>6</a>\u001b[0m \u001b[39mfrom\u001b[39;00m \u001b[39msklearn\u001b[39;00m\u001b[39m.\u001b[39;00m\u001b[39mmetrics\u001b[39;00m \u001b[39mimport\u001b[39;00m mean_squared_error\n",
      "\u001b[0;31mModuleNotFoundError\u001b[0m: No module named 'plotly'"
     ]
    }
   ],
   "source": [
    "import random\n",
    "import pandas as pd\n",
    "import numpy as np\n",
    "import plotly.express as px\n",
    "from sklearn.model_selection import TimeSeriesSplit\n",
    "from sklearn.metrics import mean_squared_error\n",
    "import statsmodels.api as sm"
   ]
  },
  {
   "cell_type": "code",
   "execution_count": null,
   "metadata": {},
   "outputs": [],
   "source": [
    "# Time series function\n",
    "def generate_time_series(start_date, end_date, num_products):\n",
    "    date_range = pd.date_range(start=start_date, end=end_date, freq=\"D\")\n",
    "    data = {\"date\": date_range}\n",
    "\n",
    "    for i in range(1, num_products + 1):\n",
    "        product_demand = [random.randint(0, 100) for _ in range(len(date_range))]\n",
    "        data[f'product_{i}_demand'] = product_demand\n",
    "\n",
    "    df = pd.DataFrame(data=data)\n",
    "    \n",
    "    return df"
   ]
  },
  {
   "cell_type": "code",
   "execution_count": null,
   "metadata": {},
   "outputs": [
    {
     "name": "stdout",
     "output_type": "stream",
     "text": [
      "          date  product_1_demand  product_2_demand  product_3_demand\n",
      "0   2023-01-01                31                51                81\n",
      "1   2023-01-02                15                53                44\n",
      "2   2023-01-03                79                69                81\n",
      "3   2023-01-04                78                42                58\n",
      "4   2023-01-05                42               100                90\n",
      "..         ...               ...               ...               ...\n",
      "360 2023-12-27                99                79                43\n",
      "361 2023-12-28                70                91                77\n",
      "362 2023-12-29                 5                16                69\n",
      "363 2023-12-30                 3                92                27\n",
      "364 2023-12-31                26                60                92\n",
      "\n",
      "[365 rows x 4 columns]\n"
     ]
    }
   ],
   "source": [
    "# Create product demand data\n",
    "start_date = '2023-01-01'\n",
    "end_date = '2023-12-31'\n",
    "num_products = 3\n",
    "\n",
    "product_demand_data = generate_time_series(start_date, end_date, num_products)\n",
    "print(product_demand_data)"
   ]
  },
  {
   "cell_type": "markdown",
   "metadata": {},
   "source": [
    "## Time Series Split Cross-Validation"
   ]
  },
  {
   "cell_type": "code",
   "execution_count": null,
   "metadata": {},
   "outputs": [
    {
     "name": "stderr",
     "output_type": "stream",
     "text": [
      "No artists with labels found to put in legend.  Note that artists whose label start with an underscore are ignored when legend() is called with no argument.\n"
     ]
    },
    {
     "name": "stdout",
     "output_type": "stream",
     "text": [
      "Fold 0:\n",
      "Fold 1:\n",
      "Fold 2:\n",
      "Fold 3:\n",
      "Fold 4:\n"
     ]
    },
    {
     "data": {
      "image/png": "[encoded data removed]",
      "text/plain": [
       "<Figure size 640x480 with 1 Axes>"
      ]
     },
     "metadata": {},
     "output_type": "display_data"
    }
   ],
   "source": [
    "tscv = TimeSeriesSplit(max_train_size=None, n_splits=5)\n",
    "folds = []\n",
    "\n",
    "# Get indices in each fold\n",
    "for i, (train_index, test_index) in enumerate(tscv.split(product_demand_data[\"product_1_demand\"])):\n",
    "    folds.append([train_index, test_index])\n",
    "\n",
    "# Create dfs\n",
    "folds_df = []\n",
    "for i in folds:\n",
    "    df_train = pd.DataFrame(zip(i[0], ['train']*len(i[0])),\n",
    "                            columns=['index','group'])\n",
    "    df_test = pd.DataFrame(zip(i[1], ['test']*len(i[1])),\n",
    "                           columns=['index','group'])\n",
    "    df = pd.concat([df_train, df_test], axis=0)\n",
    "    folds_df.append(df)\n",
    "\n",
    "# Assign the row numbers to each iteration for plotting\n",
    "list_num = [i[0] for i in list(enumerate(folds))]\n",
    "list_num.reverse()\n",
    "list_r = []\n",
    "for i,j in zip(folds_df, list_num):\n",
    "    i['k_fold']=[j]*len(i)\n",
    "    list_r.append(i)\n",
    "    \n",
    "df_p = pd.concat(list_r, axis=0)\n",
    "df_p.head()\n"
   ]
  },
  {
   "cell_type": "code",
   "execution_count": null,
   "metadata": {},
   "outputs": [],
   "source": [
    "fig = px.bar(df_p, x='index', y='k_fold', color='group',\n",
    "                 color_discrete_map={'test':'red','train':'blue'})\n",
    "\n",
    "fig.update_layout(yaxis_showticklabels=False)\n",
    "fig.show()"
   ]
  },
  {
   "cell_type": "code",
   "execution_count": null,
   "metadata": {},
   "outputs": [
    {
     "name": "stdout",
     "output_type": "stream",
     "text": [
      "-------------------------------------\n",
      "Fold 1:\n",
      "TRAIN indices: [ 0  1  2  3  4  5  6  7  8  9 10 11 12 13 14 15 16 17 18 19 20 21 22 23\n",
      " 24 25 26 27 28 29 30 31 32 33 34 35 36 37 38 39 40 41 42 43 44 45 46 47\n",
      " 48 49 50 51 52 53 54 55 56 57 58 59 60 61 62 63 64]\n",
      "TEST indices: [ 65  66  67  68  69  70  71  72  73  74  75  76  77  78  79  80  81  82\n",
      "  83  84  85  86  87  88  89  90  91  92  93  94  95  96  97  98  99 100\n",
      " 101 102 103 104 105 106 107 108 109 110 111 112 113 114 115 116 117 118\n",
      " 119 120 121 122 123 124]\n",
      "\n",
      "RMSE: 30.72799057416286\n",
      "-------------------------------------\n",
      "Fold 2:\n",
      "TRAIN indices: [  0   1   2   3   4   5   6   7   8   9  10  11  12  13  14  15  16  17\n",
      "  18  19  20  21  22  23  24  25  26  27  28  29  30  31  32  33  34  35\n",
      "  36  37  38  39  40  41  42  43  44  45  46  47  48  49  50  51  52  53\n",
      "  54  55  56  57  58  59  60  61  62  63  64  65  66  67  68  69  70  71\n",
      "  72  73  74  75  76  77  78  79  80  81  82  83  84  85  86  87  88  89\n",
      "  90  91  92  93  94  95  96  97  98  99 100 101 102 103 104 105 106 107\n",
      " 108 109 110 111 112 113 114 115 116 117 118 119 120 121 122 123 124]\n",
      "TEST indices: [125 126 127 128 129 130 131 132 133 134 135 136 137 138 139 140 141 142\n",
      " 143 144 145 146 147 148 149 150 151 152 153 154 155 156 157 158 159 160\n",
      " 161 162 163 164 165 166 167 168 169 170 171 172 173 174 175 176 177 178\n",
      " 179 180 181 182 183 184]\n",
      "\n",
      "RMSE: 29.721434455358633\n",
      "-------------------------------------\n",
      "Fold 3:\n",
      "TRAIN indices: [  0   1   2   3   4   5   6   7   8   9  10  11  12  13  14  15  16  17\n",
      "  18  19  20  21  22  23  24  25  26  27  28  29  30  31  32  33  34  35\n",
      "  36  37  38  39  40  41  42  43  44  45  46  47  48  49  50  51  52  53\n",
      "  54  55  56  57  58  59  60  61  62  63  64  65  66  67  68  69  70  71\n",
      "  72  73  74  75  76  77  78  79  80  81  82  83  84  85  86  87  88  89\n",
      "  90  91  92  93  94  95  96  97  98  99 100 101 102 103 104 105 106 107\n",
      " 108 109 110 111 112 113 114 115 116 117 118 119 120 121 122 123 124 125\n",
      " 126 127 128 129 130 131 132 133 134 135 136 137 138 139 140 141 142 143\n",
      " 144 145 146 147 148 149 150 151 152 153 154 155 156 157 158 159 160 161\n",
      " 162 163 164 165 166 167 168 169 170 171 172 173 174 175 176 177 178 179\n",
      " 180 181 182 183 184]\n",
      "TEST indices: [185 186 187 188 189 190 191 192 193 194 195 196 197 198 199 200 201 202\n",
      " 203 204 205 206 207 208 209 210 211 212 213 214 215 216 217 218 219 220\n",
      " 221 222 223 224 225 226 227 228 229 230 231 232 233 234 235 236 237 238\n",
      " 239 240 241 242 243 244]\n",
      "\n",
      "RMSE: 28.504224445168763\n",
      "-------------------------------------\n",
      "Fold 4:\n",
      "TRAIN indices: [  0   1   2   3   4   5   6   7   8   9  10  11  12  13  14  15  16  17\n",
      "  18  19  20  21  22  23  24  25  26  27  28  29  30  31  32  33  34  35\n",
      "  36  37  38  39  40  41  42  43  44  45  46  47  48  49  50  51  52  53\n",
      "  54  55  56  57  58  59  60  61  62  63  64  65  66  67  68  69  70  71\n",
      "  72  73  74  75  76  77  78  79  80  81  82  83  84  85  86  87  88  89\n",
      "  90  91  92  93  94  95  96  97  98  99 100 101 102 103 104 105 106 107\n",
      " 108 109 110 111 112 113 114 115 116 117 118 119 120 121 122 123 124 125\n",
      " 126 127 128 129 130 131 132 133 134 135 136 137 138 139 140 141 142 143\n",
      " 144 145 146 147 148 149 150 151 152 153 154 155 156 157 158 159 160 161\n",
      " 162 163 164 165 166 167 168 169 170 171 172 173 174 175 176 177 178 179\n",
      " 180 181 182 183 184 185 186 187 188 189 190 191 192 193 194 195 196 197\n",
      " 198 199 200 201 202 203 204 205 206 207 208 209 210 211 212 213 214 215\n",
      " 216 217 218 219 220 221 222 223 224 225 226 227 228 229 230 231 232 233\n",
      " 234 235 236 237 238 239 240 241 242 243 244]\n",
      "TEST indices: [245 246 247 248 249 250 251 252 253 254 255 256 257 258 259 260 261 262\n",
      " 263 264 265 266 267 268 269 270 271 272 273 274 275 276 277 278 279 280\n",
      " 281 282 283 284 285 286 287 288 289 290 291 292 293 294 295 296 297 298\n",
      " 299 300 301 302 303 304]\n",
      "\n",
      "RMSE: 28.759577894695504\n",
      "-------------------------------------\n",
      "Fold 5:\n",
      "TRAIN indices: [  0   1   2   3   4   5   6   7   8   9  10  11  12  13  14  15  16  17\n",
      "  18  19  20  21  22  23  24  25  26  27  28  29  30  31  32  33  34  35\n",
      "  36  37  38  39  40  41  42  43  44  45  46  47  48  49  50  51  52  53\n",
      "  54  55  56  57  58  59  60  61  62  63  64  65  66  67  68  69  70  71\n",
      "  72  73  74  75  76  77  78  79  80  81  82  83  84  85  86  87  88  89\n",
      "  90  91  92  93  94  95  96  97  98  99 100 101 102 103 104 105 106 107\n",
      " 108 109 110 111 112 113 114 115 116 117 118 119 120 121 122 123 124 125\n",
      " 126 127 128 129 130 131 132 133 134 135 136 137 138 139 140 141 142 143\n",
      " 144 145 146 147 148 149 150 151 152 153 154 155 156 157 158 159 160 161\n",
      " 162 163 164 165 166 167 168 169 170 171 172 173 174 175 176 177 178 179\n",
      " 180 181 182 183 184 185 186 187 188 189 190 191 192 193 194 195 196 197\n",
      " 198 199 200 201 202 203 204 205 206 207 208 209 210 211 212 213 214 215\n",
      " 216 217 218 219 220 221 222 223 224 225 226 227 228 229 230 231 232 233\n",
      " 234 235 236 237 238 239 240 241 242 243 244 245 246 247 248 249 250 251\n",
      " 252 253 254 255 256 257 258 259 260 261 262 263 264 265 266 267 268 269\n",
      " 270 271 272 273 274 275 276 277 278 279 280 281 282 283 284 285 286 287\n",
      " 288 289 290 291 292 293 294 295 296 297 298 299 300 301 302 303 304]\n",
      "TEST indices: [305 306 307 308 309 310 311 312 313 314 315 316 317 318 319 320 321 322\n",
      " 323 324 325 326 327 328 329 330 331 332 333 334 335 336 337 338 339 340\n",
      " 341 342 343 344 345 346 347 348 349 350 351 352 353 354 355 356 357 358\n",
      " 359 360 361 362 363 364]\n",
      "\n",
      "RMSE: 29.772375587485307\n"
     ]
    }
   ],
   "source": [
    "rmse = []\n",
    "\n",
    "for i, (train_index, test_index) in enumerate(tscv.split(product_demand_data[\"product_1_demand\"])):\n",
    "    X_train, X_test = product_demand_data[\"product_1_demand\"].iloc[train_index], product_demand_data[\"product_1_demand\"].iloc[test_index]\n",
    "    print(\"-------------------------------------\")\n",
    "    print(f\"Fold {i + 1}:\")\n",
    "    print(\"TRAIN indices:\", train_index)\n",
    "    print(\"TEST indices:\", test_index)\n",
    "    print(\"\")\n",
    "\n",
    "    # Fit the model on rolling folds\n",
    "    arima = sm.tsa.ARIMA(X_train, order=(1, 1, 1)).fit()\n",
    "    predictions = arima.predict(start=X_test.index.values[0], end= X_test.index.values[-1])\n",
    "\n",
    "    # Calculate RMSE\n",
    "    true_values = X_test.values\n",
    "    rmse.append(np.sqrt(mean_squared_error(true_values, predictions)))\n",
    "    print(\"RMSE: {}\".format(np.mean(rmse)))\n"
   ]
  },
  {
   "cell_type": "markdown",
   "metadata": {},
   "source": [
    "### Notes\n",
    "- Rolling Window\n",
    "- Leakage (It may introduce leakage from future data to the model. The model will observe future patterns to forecast and try to memorize them.)\n",
    "- Source: https://medium.com/@soumyachess1496/cross-validation-in-time-series-566ae4981ce4\n",
    "- Source: https://towardsdatascience.com/visualizing-sklearn-cross-validation-k-fold-shuffle-split-and-time-series-split-a13221eb5a56"
   ]
  },
  {
   "cell_type": "markdown",
   "metadata": {},
   "source": [
    "## Blocked Cross-Validation"
   ]
  },
  {
   "cell_type": "markdown",
   "metadata": {},
   "source": []
  }
 ],
 "metadata": {
  "kernelspec": {
   "display_name": "Python 3.10.6 ('Best_Practice_env')",
   "language": "python",
   "name": "python3"
  },
  "language_info": {
   "codemirror_mode": {
    "name": "ipython",
    "version": 3
   },
   "file_extension": ".py",
   "mimetype": "text/x-python",
   "name": "python",
   "nbconvert_exporter": "python",
   "pygments_lexer": "ipython3",
   "version": "3.10.6"
  },
  "orig_nbformat": 4,
  "vscode": {
   "interpreter": {
    "hash": "a97ac5e48e7972309a0fae49503f6e2b7352844a68085ab0b68ec7b3d59d6f1b"
   }
  }
 },
 "nbformat": 4,
 "nbformat_minor": 2
}
